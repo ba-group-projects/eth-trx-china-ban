{
 "cells": [
  {
   "cell_type": "markdown",
   "metadata": {},
   "source": [
    "## Import Packages"
   ]
  },
  {
   "cell_type": "code",
   "execution_count": 1,
   "metadata": {},
   "outputs": [],
   "source": [
    "import numpy as np\n",
    "import networkx as nx\n",
    "import pandas as pd\n",
    "import matplotlib.pylab as plt\n",
    "from collections import Counter\n",
    "import seaborn as sns\n",
    "from operator import itemgetter\n",
    "from networkx.algorithms.community import girvan_newman, modularity\n",
    "from networkx.algorithms import degree_centrality\n",
    "from networkx.algorithms import betweenness_centrality\n",
    "from networkx.algorithms import eigenvector_centrality\n",
    "import itertools"
   ]
  },
  {
   "cell_type": "markdown",
   "metadata": {},
   "source": [
    "1. Degree Plots\n",
    "2. Centrality Measures\n",
    "3. Community Calculation"
   ]
  },
  {
   "cell_type": "markdown",
   "metadata": {},
   "source": [
    "## Generating directed and weighted networks"
   ]
  },
  {
   "cell_type": "code",
   "execution_count": 2,
   "metadata": {},
   "outputs": [],
   "source": [
    "# Calculating the degree of nodes and putting it into the list\n",
    "\n",
    "ori_pre_ban_df = pd.read_csv('data/cleaned_data_before_ban.csv')\n",
    "ori_post_ban_df = pd.read_csv('data/cleaned_data_after_ban.csv')\n",
    "\n",
    "# PRE BAN\n",
    "\n",
    "##### select top 5k transactions for pre ban\n",
    "pre_ban_df = ori_pre_ban_df.sort_values(by=['value'], ascending=False).head(5000)\n",
    "pre_ban_mono_df = pre_ban_df[(pre_ban_df.from_address_type == 'EOA') & (pre_ban_df.to_address_type == 'EOA')].reset_index(drop=True)\n",
    "pre_ban_bi_df = pre_ban_df[((pre_ban_df.from_address_type == 'EOA') & (pre_ban_df.to_address_type == 'Contract')) | ((pre_ban_df.from_address_type == 'Contract') & (pre_ban_df.to_address_type == 'EOA'))].reset_index(drop=True)\n",
    "\n",
    "##### generate monopartite network pre ban\n",
    "pre_ban_mono = nx.DiGraph()\n",
    "pre_ban_mono.add_nodes_from(np.unique(np.array(pre_ban_mono_df['from_address'].append(pre_ban_mono_df['to_address']))))\n",
    "pre_ban_mono.add_weighted_edges_from(list(zip(pre_ban_mono_df['from_address'],pre_ban_mono_df['to_address'],pre_ban_mono_df['value'])))\n",
    "\n",
    "##### generate bipartite network pre ban\n",
    "pre_ban_bi_users = np.unique(np.array(pre_ban_bi_df['from_address']))\n",
    "pre_ban_bi_contracts = np.unique(np.array(pre_ban_bi_df['to_address']))\n",
    "pre_ban_bi_edges = list(zip(pre_ban_bi_df['from_address'], pre_ban_bi_df['to_address'], pre_ban_bi_df['value']))\n",
    "\n",
    "pre_ban_bi = nx.DiGraph()\n",
    "pre_ban_bi.add_nodes_from(pre_ban_bi_users, bipartite=0)\n",
    "pre_ban_bi.add_nodes_from(pre_ban_bi_contracts, bipartite=1)\n",
    "pre_ban_bi.add_weighted_edges_from(pre_ban_bi_edges)\n",
    "\n",
    "# POST BAN\n",
    "\n",
    "##### select top 5k transactions for post ban\n",
    "post_ban_df = ori_post_ban_df.sort_values(by=['value'], ascending=False).head(5000)\n",
    "post_ban_mono_df = post_ban_df[(post_ban_df.from_address_type == 'EOA') & (post_ban_df.to_address_type == 'EOA')].reset_index(drop=True)\n",
    "post_ban_bi_df = post_ban_df[((post_ban_df.from_address_type == 'EOA') & (post_ban_df.to_address_type == 'Contract')) | ((post_ban_df.from_address_type == 'Contract') & (post_ban_df.to_address_type == 'EOA'))].reset_index(drop=True)\n",
    "\n",
    "##### generate monopartite network post ban\n",
    "post_ban_mono = nx.DiGraph()\n",
    "post_ban_mono.add_nodes_from(np.unique(np.array(post_ban_mono_df['from_address'].append(post_ban_mono_df['to_address']))))\n",
    "post_ban_mono.add_weighted_edges_from(list(zip(post_ban_mono_df['from_address'],post_ban_mono_df['to_address'],post_ban_mono_df['value'])))\n",
    "\n",
    "##### generate bipartite network post ban\n",
    "post_ban_bi_users = np.unique(np.array(post_ban_bi_df['from_address']))\n",
    "post_ban_bi_contracts = np.unique(np.array(post_ban_bi_df['to_address']))\n",
    "post_ban_bi_edges = list(zip(post_ban_bi_df['from_address'], post_ban_bi_df['to_address'], post_ban_bi_df['value']))\n",
    "\n",
    "post_ban_bi = nx.DiGraph()\n",
    "post_ban_bi.add_nodes_from(post_ban_bi_users, bipartite=0)\n",
    "post_ban_bi.add_nodes_from(post_ban_bi_contracts, bipartite=1)\n",
    "post_ban_bi.add_weighted_edges_from(post_ban_bi_edges)"
   ]
  },
  {
   "cell_type": "markdown",
   "metadata": {},
   "source": [
    "# Degree "
   ]
  },
  {
   "cell_type": "markdown",
   "metadata": {},
   "source": [
    "## Summary on degree distribution"
   ]
  },
  {
   "cell_type": "code",
   "execution_count": 36,
   "metadata": {},
   "outputs": [],
   "source": [
    "network = pre_ban_mono\n",
    "dv = dict(network.degree())\n",
    "k = list(dv.values())\n",
    "\n",
    "# Creating mean, min, max and sd for degree\n",
    "\n",
    "degreemean = np.mean(k)\n",
    "degreemin = np.min(k)\n",
    "degreemax = np.max(k)\n",
    "degreestd = np.std(k)"
   ]
  },
  {
   "cell_type": "markdown",
   "metadata": {},
   "source": [
    "## Plotting Degree Distribution 1: Histogram (Overall, In-Degree, Out-Degree)"
   ]
  },
  {
   "cell_type": "markdown",
   "metadata": {},
   "source": [
    "A plot containing 3 graphs (overall, in-degree and out-degree distribution)"
   ]
  },
  {
   "cell_type": "code",
   "execution_count": 37,
   "metadata": {},
   "outputs": [],
   "source": [
    "# Creating parameters for graph\n",
    "\n",
    "# Overall (formula is very similar as the degree distribution summary)\n",
    "\n",
    "k_overall = sorted([d for n, d in network.degree()], reverse=True) #Gets all the degree in a list\n",
    "p_k_overall = np.unique(k_overall, return_counts=True)\n",
    "average = sum(k_overall)/len(network.nodes) # Calculate the average to be used for poisson at graph 2\n",
    "\n",
    "## Indegree\n",
    "\n",
    "k_indegree = sorted([d for n, d in network.in_degree()], reverse=True)\n",
    "p_k_indegree = np.unique(k_indegree, return_counts=True)\n",
    "average_in = sum(k_indegree)/len(network.nodes)\n",
    "\n",
    "## Outdegree\n",
    "\n",
    "k_outdegree = sorted([d for n, d in network.out_degree()], reverse=True)\n",
    "p_k_outdegree = np.unique(k_outdegree, return_counts=True)\n",
    "average_out = sum(k_outdegree)/len(network.nodes)\n"
   ]
  },
  {
   "cell_type": "code",
   "execution_count": 38,
   "metadata": {},
   "outputs": [
    {
     "data": {
      "image/png": "[encoded data removed]",
      "text/plain": [
       "<Figure size 1440x864 with 3 Axes>"
      ]
     },
     "metadata": {
      "needs_background": "light"
     },
     "output_type": "display_data"
    }
   ],
   "source": [
    "# Distribution Plot (Log Scale)\n",
    "\n",
    "# Overall\n",
    "# create figure\n",
    "fig = plt.figure(figsize=(20, 12))\n",
    "# create plot\n",
    "ax1 = fig.add_subplot(3, 1, 1)\n",
    "\n",
    "# plot data\n",
    "plt.bar(p_k_overall[0], p_k_overall[1], width=1, color=\"k\", edgecolor=\"black\",alpha=0.5)\n",
    "\n",
    "# transform the scale of axes\n",
    "ax1.set_xscale('log')\n",
    "ax1.set_yscale('log')\n",
    "\n",
    "# aesthetics\n",
    "plt.title(\"Degree Histogram\")\n",
    "plt.ylabel(\"Count\")\n",
    "plt.xlabel\n",
    "\n",
    "\n",
    "\n",
    "## In Degree Plot\n",
    "# create plot\n",
    "ax2 = fig.add_subplot(3, 1, 2)\n",
    "\n",
    "# plot data\n",
    "plt.bar(p_k_indegree[0], p_k_indegree[1], width=1, color=\"skyblue\", edgecolor=\"black\")\n",
    "\n",
    "# transform the scale of axes\n",
    "ax2.set_xscale('log')\n",
    "ax2.set_yscale('log')\n",
    "\n",
    "# aesthetics\n",
    "plt.title(\"In-Degree Histogram\")\n",
    "plt.ylabel(\"Count\")\n",
    "plt.xlabel\n",
    "\n",
    "## OutDegree Plot\n",
    "# create plot\n",
    "ax3 = fig.add_subplot(3, 1, 3)\n",
    "\n",
    "# plot data\n",
    "plt.bar(p_k_outdegree[0], p_k_outdegree[1], width=1, color=\"skyblue\", edgecolor=\"black\")\n",
    "\n",
    "# transform the scale of axes\n",
    "ax3.set_xscale('log')\n",
    "ax3.set_yscale('log')\n",
    "\n",
    "\n",
    "# aesthetics\n",
    "plt.title(\"Out-Degree Histogram\")\n",
    "plt.ylabel(\"Count\")\n",
    "plt.xlabel(\"Degree\")\n",
    "\n",
    "\n",
    "plt.show() #"
   ]
  },
  {
   "cell_type": "markdown",
   "metadata": {},
   "source": [
    "## Plotting Law Graph (Overall, In-degree, Out-degree)"
   ]
  },
  {
   "cell_type": "code",
   "execution_count": 39,
   "metadata": {},
   "outputs": [
    {
     "data": {
      "image/png": "[encoded data removed]",
      "text/plain": [
       "<Figure size 1800x576 with 6 Axes>"
      ]
     },
     "metadata": {
      "needs_background": "light"
     },
     "output_type": "display_data"
    }
   ],
   "source": [
    "# Power Law Graph \n",
    "\n",
    "# %% network degree distribution\n",
    "\n",
    "### Creating the overall graph\n",
    "\n",
    "## 1.1 - Power Law (Overall)\n",
    "\n",
    "# Create n value for finding the k below\n",
    "n = len(network.nodes)\n",
    "\n",
    "# get nodal degree 'k' data as list\n",
    "k_g = sorted([d for n, d in network.degree()], reverse=True)\n",
    "\n",
    "# get 'p_k'\n",
    "# --+ point-to-point probability\n",
    "p_k = np.unique(k_g, return_counts=True)\n",
    "# --+ cumulative probability\n",
    "cp_k = np.unique(k_g, return_index=True)\n",
    "\n",
    "\n",
    "\n",
    "# poisson distribution\n",
    "\n",
    "# Creating parameters for poisson (lam = average degree of graph)\n",
    "# Average value is created at the poisson parameter codes above\n",
    "\n",
    "poisson_dist = np.random.poisson(lam=average, size=len(network.nodes()))\n",
    "k_poisson = Counter(poisson_dist)\n",
    "n_poisson = len(poisson_dist)\n",
    "\n",
    "x_poisson = list(k_poisson.keys())\n",
    "x_poisson = pd.DataFrame(x_poisson)\n",
    "y_poisson = list(k_poisson.values())\n",
    "y_poisson = pd.DataFrame(y_poisson)\n",
    "\n",
    "\n",
    "# create figure\n",
    "fig = plt.figure(figsize=(25, 8))\n",
    "\n",
    "ax1 = fig.add_subplot(1, 3, 1)\n",
    "ax1.scatter(x_poisson, y_poisson/n_poisson, color='red')\n",
    "\n",
    "ax1.set_ylabel(\"count\")\n",
    "ax1.set_xlabel(\"($k$)\")\n",
    "\n",
    "# add plot\n",
    "ax0 = fig.add_subplot(1, 3, 1)\n",
    "\n",
    "# point-to-point data\n",
    "# --+ plot data\n",
    "ax0.scatter(p_k[0], p_k[1]/n, marker='o', color='black', alpha=0.7)\n",
    "# --+ title\n",
    "ax0.set_title(\"Degree Distribution\")\n",
    "# --+ labels\n",
    "ax0.set_ylabel(\"$Pr(k = k_{i})$\")\n",
    "ax0.set_xlabel(\"Degree $k$\")\n",
    "ax0.set_yscale('log')\n",
    "ax0.set_xscale('log')\n",
    "\n",
    "\n",
    "# Now we repeat the whole process again with in and out-degree. Maybe a function would \n",
    "# be better...\n",
    "\n",
    "## 2.1 Power Law (In-Degree)\n",
    "\n",
    "# get nodal degree 'k' data as list\n",
    "k_g = sorted([d for n, d in network.in_degree()], reverse=True) # I used the same k_g variable, not sure if should rename\n",
    "\n",
    "# get 'p_k'\n",
    "# --+ point-to-point probability\n",
    "p_k = np.unique(k_g, return_counts=True)\n",
    "# --+ cumulative probability\n",
    "cp_k = np.unique(k_g, return_index=True)\n",
    "\n",
    "\n",
    "## 2.2 Poisson Distribution\n",
    "\n",
    "# poisson distribution\n",
    "# Creating parameters for poisson (lam = average degree of graph)\n",
    "\n",
    "poisson_dist = np.random.poisson(lam=average_in, size=len(network.nodes()))\n",
    "k_poisson = Counter(poisson_dist)\n",
    "n_poisson = len(poisson_dist)\n",
    "\n",
    "x_poisson = list(k_poisson.keys())\n",
    "x_poisson = pd.DataFrame(x_poisson)\n",
    "y_poisson = list(k_poisson.values())\n",
    "y_poisson = pd.DataFrame(y_poisson)\n",
    "\n",
    "\n",
    "# create figure\n",
    "\n",
    "ax3 = fig.add_subplot(1, 3, 2)\n",
    "ax3.scatter(x_poisson, y_poisson/n_poisson, color='red')\n",
    "\n",
    "ax3.set_ylabel(\"count\")\n",
    "ax3.set_xlabel(\"($k$)\")\n",
    "\n",
    "# add plot\n",
    "ax4 = fig.add_subplot(1, 3, 2)\n",
    "\n",
    "# point-to-point data\n",
    "# --+ plot data\n",
    "ax4.scatter(p_k[0], p_k[1]/n, marker='o', color='black', alpha=0.7)\n",
    "# --+ title\n",
    "ax4.set_title(\"In-Degree Distribution\")\n",
    "# --+ labels\n",
    "ax4.set_ylabel(\"$Pr(k = k_{i})$\")\n",
    "ax4.set_xlabel(\"Degree $k$\")\n",
    "ax4.set_yscale('log')\n",
    "ax4.set_xscale('log')\n",
    "\n",
    "\n",
    "## 3.1 Power Law (Out-Degree)\n",
    "\n",
    "# get nodal degree 'k' data as list\n",
    "k_g = sorted([d for n, d in network.out_degree()], reverse=True)\n",
    "\n",
    "# get 'p_k'\n",
    "# --+ point-to-point probability\n",
    "p_k = np.unique(k_g, return_counts=True)\n",
    "# --+ cumulative probability\n",
    "cp_k = np.unique(k_g, return_index=True)\n",
    "\n",
    "\n",
    "\n",
    "## 3.2 Poisson Distribution (Out-Degree)\n",
    "\n",
    "# Creating parameters for poisson (lam = average degree of graph)\n",
    "\n",
    "poisson_dist = np.random.poisson(lam=average_out, size=len(network.nodes()))\n",
    "k_poisson = Counter(poisson_dist)\n",
    "n_poisson = len(poisson_dist)\n",
    "\n",
    "x_poisson = list(k_poisson.keys())\n",
    "x_poisson = pd.DataFrame(x_poisson)\n",
    "y_poisson = list(k_poisson.values())\n",
    "y_poisson = pd.DataFrame(y_poisson)\n",
    "\n",
    "\n",
    "# create figure\n",
    "\n",
    "ax5 = fig.add_subplot(1, 3, 3)\n",
    "ax5.scatter(x_poisson, y_poisson/n_poisson, color='red')\n",
    "\n",
    "ax5.set_ylabel(\"count\")\n",
    "ax5.set_xlabel(\"($k$)\")\n",
    "\n",
    "# add plot\n",
    "ax6 = fig.add_subplot(1, 3, 3)\n",
    "\n",
    "# point-to-point data\n",
    "# --+ plot data\n",
    "ax6.scatter(p_k[0], p_k[1]/n, marker='o', color='black', alpha=0.7)\n",
    "# --+ title\n",
    "ax6.set_title(\"Degree Distribution\")\n",
    "# --+ labels\n",
    "ax6.set_ylabel(\"$Pr(k = k_{i})$\")\n",
    "ax6.set_xlabel(\"Degree $k$\")\n",
    "ax6.set_yscale('log')\n",
    "ax6.set_xscale('log')\n",
    "\n",
    "\n",
    "# show plot (ax0+ax1 = normal, ax3+4 = in, ax5+6 = out)\n",
    "plt.show()"
   ]
  },
  {
   "cell_type": "markdown",
   "metadata": {},
   "source": [
    "# Centrality"
   ]
  },
  {
   "cell_type": "markdown",
   "metadata": {},
   "source": []
  },
  {
   "cell_type": "markdown",
   "metadata": {},
   "source": [
    "## Betweenness Centrality"
   ]
  },
  {
   "cell_type": "code",
   "execution_count": 41,
   "metadata": {},
   "outputs": [],
   "source": [
    "# Calculating the Betweenness Centrality for a network\n",
    "bet_centrality = nx.betweenness_centrality(network)  # should take a few minutes\n",
    "nx.set_node_attributes(network, bet_centrality, 'betweenness centrality') \n",
    "\n",
    "# Creating the sorted_betweenness value\n",
    "sorted_betweenness = sorted(\n",
    "    bet_centrality.items(), key=itemgetter(1), reverse=True)\n",
    "\n",
    "# Finding the summary stats on between centrality\n",
    "bet_list = list(bet_centrality.values())\n",
    "\n",
    "betmean = np.mean(bet_list)\n",
    "betmin = np.min(bet_list)\n",
    "betmax = np.max(bet_list)\n",
    "betstd = np.std(bet_list)"
   ]
  },
  {
   "cell_type": "markdown",
   "metadata": {},
   "source": [
    "## Eigenvector Centrality"
   ]
  },
  {
   "cell_type": "code",
   "execution_count": 42,
   "metadata": {},
   "outputs": [],
   "source": [
    "# Calculating the Eigenvector CEntrality for a network\n",
    "ev_centrality = nx.eigenvector_centrality(network, max_iter=200)\n",
    "nx.set_node_attributes(network, ev_centrality, 'eigenvector centrality')\n",
    "\n",
    "# Creating the sorted_ev_centrality value\n",
    "sorted_ev_centrality = sorted(\n",
    "    ev_centrality.items(), key=itemgetter(1), reverse=True)\n",
    "\n",
    "# Finding the summary stats on eigenvector centrality\n",
    "eg_list = list(ev_centrality.values())\n",
    "\n",
    "egmean = np.mean(eg_list)\n",
    "egmin = np.min(eg_list)\n",
    "egmax = np.max(eg_list)\n",
    "egstd = np.std(eg_list)"
   ]
  },
  {
   "cell_type": "markdown",
   "metadata": {},
   "source": [
    "## Degree Centrality"
   ]
  },
  {
   "cell_type": "markdown",
   "metadata": {},
   "source": [
    "Same format as Eigenvector and Betweenness so for comments, see there"
   ]
  },
  {
   "cell_type": "code",
   "execution_count": 43,
   "metadata": {},
   "outputs": [],
   "source": [
    "deg_centrality = nx.degree_centrality(network)\n",
    "nx.set_node_attributes(network, deg_centrality, 'degree centrality')\n",
    "sorted_deg_centrality = sorted(\n",
    "    deg_centrality.items(), key=itemgetter(1), reverse=True)\n",
    "\n",
    "deg_list = list(deg_centrality.values())\n",
    "\n",
    "degcenmean = np.mean(deg_list)\n",
    "degcenmin = np.min(deg_list)\n",
    "degcenmax = np.max(deg_list)\n",
    "degcenstd = np.std(deg_list)"
   ]
  },
  {
   "cell_type": "markdown",
   "metadata": {},
   "source": [
    "## Closeness Centrality "
   ]
  },
  {
   "cell_type": "code",
   "execution_count": 44,
   "metadata": {},
   "outputs": [],
   "source": [
    "close_centrality = nx.closeness_centrality(network)\n",
    "nx.set_node_attributes(network, close_centrality, 'closeness centrality')\n",
    "\n",
    "sorted_close_centrality = sorted(\n",
    "    close_centrality.items(), key=itemgetter(1), reverse=True)\n",
    "\n",
    "\n",
    "close_list = list(close_centrality.values())\n",
    "\n",
    "closemean = np.mean(close_list)\n",
    "closemin = np.min(close_list)\n",
    "closemax = np.max(close_list)\n",
    "closestd = np.std(close_list)"
   ]
  },
  {
   "cell_type": "markdown",
   "metadata": {},
   "source": [
    "## Visualising the Centrality "
   ]
  },
  {
   "cell_type": "code",
   "execution_count": 45,
   "metadata": {},
   "outputs": [
    {
     "data": {
      "text/plain": [
       "<seaborn.axisgrid.PairGrid at 0x1ba250540a0>"
      ]
     },
     "execution_count": 45,
     "metadata": {},
     "output_type": "execute_result"
    },
    {
     "data": {
      "image/png": "[encoded data removed]",
      "text/plain": [
       "<Figure size 720x720 with 20 Axes>"
      ]
     },
     "metadata": {
      "needs_background": "light"
     },
     "output_type": "display_data"
    }
   ],
   "source": [
    "cen_df = pd.DataFrame({'degree': deg_centrality, 'ev_centrality': ev_centrality,\n",
    "                   'betweenness_centrality': bet_centrality, 'close_centrality': close_centrality}\n",
    "                )\n",
    "# --+ correlation matrix\n",
    "cen_df.corr()\n",
    "# --+ scatter plot matrix\n",
    "sns.pairplot(cen_df) "
   ]
  },
  {
   "cell_type": "markdown",
   "metadata": {},
   "source": [
    "Creating a Summary Table "
   ]
  },
  {
   "cell_type": "markdown",
   "metadata": {},
   "source": []
  },
  {
   "cell_type": "code",
   "execution_count": 49,
   "metadata": {},
   "outputs": [
    {
     "data": {
      "text/html": [
       "<div>\n",
       "<style scoped>\n",
       "    .dataframe tbody tr th:only-of-type {\n",
       "        vertical-align: middle;\n",
       "    }\n",
       "\n",
       "    .dataframe tbody tr th {\n",
       "        vertical-align: top;\n",
       "    }\n",
       "\n",
       "    .dataframe thead th {\n",
       "        text-align: right;\n",
       "    }\n",
       "</style>\n",
       "<table border=\"1\" class=\"dataframe\">\n",
       "  <thead>\n",
       "    <tr style=\"text-align: right;\">\n",
       "      <th></th>\n",
       "      <th>closeness</th>\n",
       "      <th>eigenvector</th>\n",
       "      <th>betweenness</th>\n",
       "      <th>degree centrality</th>\n",
       "      <th>degree</th>\n",
       "    </tr>\n",
       "  </thead>\n",
       "  <tbody>\n",
       "    <tr>\n",
       "      <th>0</th>\n",
       "      <td>0.018352</td>\n",
       "      <td>6.855955e-03</td>\n",
       "      <td>0.000191</td>\n",
       "      <td>0.000679</td>\n",
       "      <td>2.021477</td>\n",
       "    </tr>\n",
       "    <tr>\n",
       "      <th>1</th>\n",
       "      <td>0.000000</td>\n",
       "      <td>3.254825e-15</td>\n",
       "      <td>0.000000</td>\n",
       "      <td>0.000336</td>\n",
       "      <td>1.000000</td>\n",
       "    </tr>\n",
       "    <tr>\n",
       "      <th>2</th>\n",
       "      <td>0.120624</td>\n",
       "      <td>2.139830e-01</td>\n",
       "      <td>0.084761</td>\n",
       "      <td>0.090299</td>\n",
       "      <td>269.000000</td>\n",
       "    </tr>\n",
       "    <tr>\n",
       "      <th>3</th>\n",
       "      <td>0.030124</td>\n",
       "      <td>1.698724e-02</td>\n",
       "      <td>0.001826</td>\n",
       "      <td>0.002256</td>\n",
       "      <td>6.721013</td>\n",
       "    </tr>\n",
       "  </tbody>\n",
       "</table>\n",
       "</div>"
      ],
      "text/plain": [
       "   closeness   eigenvector  betweenness  degree centrality      degree\n",
       "0   0.018352  6.855955e-03     0.000191           0.000679    2.021477\n",
       "1   0.000000  3.254825e-15     0.000000           0.000336    1.000000\n",
       "2   0.120624  2.139830e-01     0.084761           0.090299  269.000000\n",
       "3   0.030124  1.698724e-02     0.001826           0.002256    6.721013"
      ]
     },
     "execution_count": 49,
     "metadata": {},
     "output_type": "execute_result"
    }
   ],
   "source": [
    "# I'm sure there is a much better way to create this\n",
    "summarytable = pd.DataFrame()\n",
    "\n",
    "summarytable['closeness'] = (closemean, closemin, closemax, closestd)\n",
    "summarytable['eigenvector'] = (egmean, egmin, egmax, egstd)\n",
    "summarytable['betweenness'] = (betmean, betmin, betmax, betstd)\n",
    "summarytable['degree centrality'] = (degcenmean, degcenmin, degcenmax, degcenstd)\n",
    "summarytable['degree'] = (degreemean, degreemin, degreemax, degreestd)\n",
    "summarytable"
   ]
  },
  {
   "cell_type": "code",
   "execution_count": 47,
   "metadata": {},
   "outputs": [],
   "source": [
    "# I created this as a reference for all the variables I made\n",
    "\n",
    "# closemean\n",
    "# closemin\n",
    "# closemax\n",
    "# closestd\n",
    "\n",
    "\n",
    "# egmean\n",
    "# egmin\n",
    "# egmax\n",
    "# egstd\n",
    "\n",
    "# betmean\n",
    "# betmin\n",
    "# betmax \n",
    "# betstd\n",
    "\n",
    "# degcenmean \n",
    "# degcenmin \n",
    "# degcenmax \n",
    "# degcenstd \n",
    "\n",
    "\n",
    "# degreemean\n",
    "# degreemin\n",
    "# degreemax\n",
    "# degreestd"
   ]
  },
  {
   "cell_type": "markdown",
   "metadata": {},
   "source": [
    "# Community"
   ]
  },
  {
   "cell_type": "markdown",
   "metadata": {},
   "source": [
    "## Girvan-Newman Method (aka the one that took a long time)"
   ]
  },
  {
   "cell_type": "code",
   "execution_count": 4,
   "metadata": {},
   "outputs": [
    {
     "data": {
      "image/png": "[encoded data removed]",
      "text/plain": [
       "<Figure size 432x288 with 1 Axes>"
      ]
     },
     "metadata": {
      "needs_background": "light"
     },
     "output_type": "display_data"
    }
   ],
   "source": [
    "network = pre_ban_mono\n",
    "solutions = girvan_newman(network)\n",
    "# alternative paritioning solutions to consider\n",
    "k = 15\n",
    "# register modularity scores\n",
    "modularity_scores = dict()\n",
    "# iterate over solutions\n",
    "for community in itertools.islice(solutions, k):\n",
    "    solution = list(sorted(c) for c in community)\n",
    "    score = modularity(network, solution)\n",
    "    modularity_scores[len(solution)] = score\n",
    "    \n",
    "# plot modularity data\n",
    "fig = plt.figure()\n",
    "pos = list(modularity_scores.keys())\n",
    "values = list(modularity_scores.values())\n",
    "ax = fig.add_subplot(1, 1, 1)\n",
    "ax.stem(pos, values)\n",
    "ax.set_xticks(pos)\n",
    "ax.set_xlabel(r'Number of communities detected')\n",
    "ax.set_ylabel(r'Modularity score')\n",
    "plt.show()"
   ]
  },
  {
   "cell_type": "code",
   "execution_count": 5,
   "metadata": {},
   "outputs": [
    {
     "data": {
      "text/html": [
       "<div>\n",
       "<style scoped>\n",
       "    .dataframe tbody tr th:only-of-type {\n",
       "        vertical-align: middle;\n",
       "    }\n",
       "\n",
       "    .dataframe tbody tr th {\n",
       "        vertical-align: top;\n",
       "    }\n",
       "\n",
       "    .dataframe thead th {\n",
       "        text-align: right;\n",
       "    }\n",
       "</style>\n",
       "<table border=\"1\" class=\"dataframe\">\n",
       "  <thead>\n",
       "    <tr style=\"text-align: right;\">\n",
       "      <th></th>\n",
       "      <th>num_communities</th>\n",
       "      <th>modularity_score</th>\n",
       "      <th>network</th>\n",
       "    </tr>\n",
       "  </thead>\n",
       "  <tbody>\n",
       "    <tr>\n",
       "      <th>0</th>\n",
       "      <td>402</td>\n",
       "      <td>0.109698</td>\n",
       "      <td>pre_ban_mono</td>\n",
       "    </tr>\n",
       "    <tr>\n",
       "      <th>1</th>\n",
       "      <td>403</td>\n",
       "      <td>0.212770</td>\n",
       "      <td>pre_ban_mono</td>\n",
       "    </tr>\n",
       "    <tr>\n",
       "      <th>2</th>\n",
       "      <td>404</td>\n",
       "      <td>0.358180</td>\n",
       "      <td>pre_ban_mono</td>\n",
       "    </tr>\n",
       "    <tr>\n",
       "      <th>3</th>\n",
       "      <td>405</td>\n",
       "      <td>0.349604</td>\n",
       "      <td>pre_ban_mono</td>\n",
       "    </tr>\n",
       "    <tr>\n",
       "      <th>4</th>\n",
       "      <td>406</td>\n",
       "      <td>0.362977</td>\n",
       "      <td>pre_ban_mono</td>\n",
       "    </tr>\n",
       "    <tr>\n",
       "      <th>5</th>\n",
       "      <td>407</td>\n",
       "      <td>0.362721</td>\n",
       "      <td>pre_ban_mono</td>\n",
       "    </tr>\n",
       "    <tr>\n",
       "      <th>6</th>\n",
       "      <td>408</td>\n",
       "      <td>0.364638</td>\n",
       "      <td>pre_ban_mono</td>\n",
       "    </tr>\n",
       "    <tr>\n",
       "      <th>7</th>\n",
       "      <td>409</td>\n",
       "      <td>0.364744</td>\n",
       "      <td>pre_ban_mono</td>\n",
       "    </tr>\n",
       "    <tr>\n",
       "      <th>8</th>\n",
       "      <td>410</td>\n",
       "      <td>0.362469</td>\n",
       "      <td>pre_ban_mono</td>\n",
       "    </tr>\n",
       "    <tr>\n",
       "      <th>9</th>\n",
       "      <td>411</td>\n",
       "      <td>0.363878</td>\n",
       "      <td>pre_ban_mono</td>\n",
       "    </tr>\n",
       "    <tr>\n",
       "      <th>10</th>\n",
       "      <td>412</td>\n",
       "      <td>0.373146</td>\n",
       "      <td>pre_ban_mono</td>\n",
       "    </tr>\n",
       "    <tr>\n",
       "      <th>11</th>\n",
       "      <td>413</td>\n",
       "      <td>0.415993</td>\n",
       "      <td>pre_ban_mono</td>\n",
       "    </tr>\n",
       "    <tr>\n",
       "      <th>12</th>\n",
       "      <td>414</td>\n",
       "      <td>0.415887</td>\n",
       "      <td>pre_ban_mono</td>\n",
       "    </tr>\n",
       "    <tr>\n",
       "      <th>13</th>\n",
       "      <td>415</td>\n",
       "      <td>0.416660</td>\n",
       "      <td>pre_ban_mono</td>\n",
       "    </tr>\n",
       "    <tr>\n",
       "      <th>14</th>\n",
       "      <td>416</td>\n",
       "      <td>0.415814</td>\n",
       "      <td>pre_ban_mono</td>\n",
       "    </tr>\n",
       "  </tbody>\n",
       "</table>\n",
       "</div>"
      ],
      "text/plain": [
       "    num_communities  modularity_score       network\n",
       "0               402          0.109698  pre_ban_mono\n",
       "1               403          0.212770  pre_ban_mono\n",
       "2               404          0.358180  pre_ban_mono\n",
       "3               405          0.349604  pre_ban_mono\n",
       "4               406          0.362977  pre_ban_mono\n",
       "5               407          0.362721  pre_ban_mono\n",
       "6               408          0.364638  pre_ban_mono\n",
       "7               409          0.364744  pre_ban_mono\n",
       "8               410          0.362469  pre_ban_mono\n",
       "9               411          0.363878  pre_ban_mono\n",
       "10              412          0.373146  pre_ban_mono\n",
       "11              413          0.415993  pre_ban_mono\n",
       "12              414          0.415887  pre_ban_mono\n",
       "13              415          0.416660  pre_ban_mono\n",
       "14              416          0.415814  pre_ban_mono"
      ]
     },
     "execution_count": 5,
     "metadata": {},
     "output_type": "execute_result"
    }
   ],
   "source": [
    "modularity_scores_df = pd.DataFrame.from_dict(modularity_scores, orient='index', columns=['modularity_score']).reset_index().rename(columns={'index':'num_communities'})#pd.DataFrame(modularity_scores, columns=['num_communities','modularity_score'])\n",
    "modularity_scores_df['network'] = 'pre_ban_mono'\n",
    "modularity_scores_df"
   ]
  },
  {
   "cell_type": "code",
   "execution_count": 6,
   "metadata": {},
   "outputs": [],
   "source": [
    "modularity_scores_df.to_csv('modularity_scores_pre_ban_mono.csv')"
   ]
  },
  {
   "cell_type": "markdown",
   "metadata": {},
   "source": [
    "## The Louvain Method (aka the one that took a few seconds)"
   ]
  },
  {
   "cell_type": "code",
   "execution_count": null,
   "metadata": {},
   "outputs": [],
   "source": [
    "# import community as community_louvain"
   ]
  },
  {
   "cell_type": "code",
   "execution_count": null,
   "metadata": {},
   "outputs": [],
   "source": [
    "# Creates the Louvain class\n",
    "\n",
    "# Note that this ONLY works with undirected network. May need to artificially generate\n",
    "# an undirected copy of our graph\n",
    "partition = community_louvain.best_partition(network)\n",
    "\n",
    "# Grouping nodes via communities\n",
    "max_k_w = []\n",
    "for com in set(partition.values()):\n",
    "    list_nodes = [nodes for nodes in partition.keys()\n",
    "                  if partition[nodes] == com]\n",
    "    max_k_w = max_k_w + [list_nodes]"
   ]
  },
  {
   "cell_type": "code",
   "execution_count": null,
   "metadata": {},
   "outputs": [],
   "source": [
    "# How to check the number of communities\n",
    "len(max_k_w)\n"
   ]
  },
  {
   "cell_type": "code",
   "execution_count": null,
   "metadata": {},
   "outputs": [],
   "source": [
    "# Checking to see how many communities are in community 1\n",
    "len(max_k_w[0])    # how many nodes are in that community"
   ]
  },
  {
   "cell_type": "code",
   "execution_count": null,
   "metadata": {},
   "outputs": [],
   "source": [
    "# Locating the communtiy of binance\n",
    "\n",
    "binance_community = partition['0x28c6c06298d514db089934071355e5743bf21d60'] \n",
    "len(max_k_w[binance_community])"
   ]
  },
  {
   "cell_type": "code",
   "execution_count": null,
   "metadata": {},
   "outputs": [],
   "source": [
    "# Others\n",
    "\n",
    "# some other functions\n",
    "num_community = len(max_k_w)\n",
    "        self.num_community = num_community\n",
    "        print('Network has' + num_community + ' number of communities')"
   ]
  },
  {
   "cell_type": "code",
   "execution_count": null,
   "metadata": {},
   "outputs": [],
   "source": []
  }
 ],
 "metadata": {
  "interpreter": {
   "hash": "505bdda8a96b3799859aebe6232df39f95ae3c910af314e38caef1cf08e11b81"
  },
  "kernelspec": {
   "display_name": "Python 3.8.12 64-bit ('smm638': conda)",
   "language": "python",
   "name": "python3"
  },
  "language_info": {
   "codemirror_mode": {
    "name": "ipython",
    "version": 3
   },
   "file_extension": ".py",
   "mimetype": "text/x-python",
   "name": "python",
   "nbconvert_exporter": "python",
   "pygments_lexer": "ipython3",
   "version": "3.8.8"
  },
  "orig_nbformat": 4
 },
 "nbformat": 4,
 "nbformat_minor": 2
}
